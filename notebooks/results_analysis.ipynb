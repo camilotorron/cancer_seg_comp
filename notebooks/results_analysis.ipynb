{
 "cells": [
  {
   "cell_type": "markdown",
   "metadata": {},
   "source": [
    "# Análisis de resultados de Cancer-seg"
   ]
  },
  {
   "cell_type": "markdown",
   "metadata": {},
   "source": [
    "Este notebook presenta los resultados de los experimentos realizados. "
   ]
  },
  {
   "cell_type": "markdown",
   "metadata": {},
   "source": [
    "#### Importación de librerías"
   ]
  },
  {
   "cell_type": "code",
   "execution_count": 69,
   "metadata": {},
   "outputs": [],
   "source": [
    "import pandas as pd\n",
    "import ast\n",
    "import warnings\n",
    "warnings.filterwarnings('ignore', 'SettingWithCopyWarning')"
   ]
  },
  {
   "cell_type": "markdown",
   "metadata": {},
   "source": [
    "Código de ayuda para la visualización"
   ]
  },
  {
   "cell_type": "code",
   "execution_count": 91,
   "metadata": {},
   "outputs": [],
   "source": [
    "def compute_mean_metrics(df:pd.DataFrame)->pd.DataFrame:\n",
    "    ious, dices, f1s, precs, recs = [], [], [], [], []\n",
    "    for column in [\"sam_b_iou\", \"sam_b_dice\", \"sam_b_f1\",\n",
    "       \"sam_b_prec\", \"sam_b_rec\", \"sam_l_iou\", \"sam_l_dice\", \"sam_l_f1\",\n",
    "       \"sam_l_prec\", \"sam_l_rec\", \"sam_h_iou\", \"sam_h_dice\", \"sam_h_f1\",\n",
    "       \"sam_h_prec\", \"sam_h_rec\", \"medsam_iou\", \"medsam_dice\", \"medsam_f1\",\n",
    "       \"medsam_prec\", \"medsam_rec\"]:\n",
    "        \n",
    "        mean_value = round(df[df[column] != 0.0][column].mean(),3)\n",
    "        if \"iou\" in column:\n",
    "            ious.append(mean_value)\n",
    "        elif \"dice\" in column:\n",
    "            dices.append(mean_value)\n",
    "        elif \"f1\" in column:\n",
    "            f1s.append(mean_value)\n",
    "        elif \"prec\" in column:\n",
    "            precs.append(mean_value)\n",
    "        elif \"rec\" in column:\n",
    "            recs.append(mean_value)\n",
    "\n",
    "    data = {\"iou_mean\":ious, \"dice_mean\":dices, \"f1_mean\":f1s, \"prec_mean\":precs, \"rec_mean\": recs}\n",
    "    row_indices = ['sam_b', 'sam_l', 'sam_h', 'med_sam']\n",
    "    mean_df = pd.DataFrame(data, index= row_indices)\n",
    "    return mean_df\n",
    "\n",
    "def compute_tnr_tpr(df:pd.DataFrame)->float:\n",
    "    no_tumor_df = df[df[\"is_tumor\"] == False]\n",
    "    no_tumor_df.loc[:, \"pred_boxes\"] = no_tumor_df[\"pred_boxes\"].apply(ast.literal_eval)\n",
    "    tn = len(no_tumor_df[no_tumor_df['pred_boxes'].apply(lambda x: x == [])])\n",
    "    tnfp = len(no_tumor_df)\n",
    "    tnr = tn/ tnfp\n",
    "\n",
    "    tumor_df = df[df[\"is_tumor\"] == True]\n",
    "    tumor_df.loc[:, \"pred_boxes\"] = tumor_df[\"pred_boxes\"].apply(ast.literal_eval)\n",
    "    tp = len(tumor_df[tumor_df['pred_boxes'].apply(lambda x: x != [])])\n",
    "    tpfp = len(tumor_df)\n",
    "    rec = tp / tpfp\n",
    "    return tnr, rec\n",
    "def compute_det_metrics(df : pd.DataFrame)->tuple:\n",
    "    prec, rec, f1, iou = 0,0,0,0\n",
    "    return prec, rec, f1, iou\n",
    "\n",
    "def append_yolov8seg_metrics(metrics_df:pd.DataFrame, segv8_df:pd.DataFrame)->pd.DataFrame:\n",
    "    pass\n"
   ]
  },
  {
   "cell_type": "markdown",
   "metadata": {},
   "source": [
    "## Detección con Yolov8 y segmentación con SAM vs Segmentación con Yolov8-seg"
   ]
  },
  {
   "cell_type": "markdown",
   "metadata": {},
   "source": [
    "### Resultados para el conjunto de TEST del conjunto de datos base (778 imágenes)"
   ]
  },
  {
   "cell_type": "code",
   "execution_count": 92,
   "metadata": {},
   "outputs": [
    {
     "name": "stdout",
     "output_type": "stream",
     "text": [
      "Especifidad: 0.9960238568588469\n",
      "Recall diagnóstico: 0.7745454545454545\n",
      "         iou_mean  dice_mean  f1_mean  prec_mean  rec_mean\n",
      "sam_b       0.764      0.855    0.855      0.824     0.921\n",
      "sam_l       0.757      0.849    0.849      0.810     0.928\n",
      "sam_h       0.752      0.846    0.846      0.806     0.929\n",
      "med_sam     0.524      0.676    0.676      0.786     0.618\n"
     ]
    }
   ],
   "source": [
    "base_results = pd.read_csv(\"../datasets/brain/base_df_yolodet_inferencesegsam.csv\")\n",
    "test_base_result = base_results[base_results[\"split\"]==\"test\"]\n",
    "mean_base_result = compute_mean_metrics(test_base_result)\n",
    "esp, rec = compute_tnr_tpr(df = test_base_result)\n",
    "print(f\"Especifidad: {esp}\")\n",
    "print(f\"Recall diagnóstico: {rec}\")\n",
    "print(mean_base_result)"
   ]
  },
  {
   "cell_type": "markdown",
   "metadata": {},
   "source": [
    "### Resultados para el conjunto de TEST del conjunto de datos AUMENTADOS X4  (3877 imágenes)"
   ]
  },
  {
   "cell_type": "code",
   "execution_count": 93,
   "metadata": {},
   "outputs": [
    {
     "name": "stdout",
     "output_type": "stream",
     "text": [
      "Especifidad: 0.9929471032745592\n",
      "Recall diagnóstico: 0.8715644820295984\n",
      "         iou_mean  dice_mean  f1_mean  prec_mean  rec_mean\n",
      "sam_b       0.764      0.855    0.855      0.824     0.921\n",
      "sam_l       0.757      0.849    0.849      0.810     0.928\n",
      "sam_h       0.752      0.846    0.846      0.806     0.929\n",
      "med_sam     0.524      0.676    0.676      0.786     0.618\n"
     ]
    }
   ],
   "source": [
    "augmented4_results = pd.read_csv(\"../datasets/brain/augmented4_df_yolodet_inferencesegsam.csv\")\n",
    "test_augmented4_result = augmented4_results[augmented4_results[\"split\"]==\"test\"]\n",
    "esp, rec = compute_tnr_tpr(df = test_augmented4_result)\n",
    "print(f\"Especifidad: {esp}\")\n",
    "print(f\"Recall diagnóstico: {rec}\")\n",
    "print(mean_base_result)\n",
    "\n"
   ]
  },
  {
   "cell_type": "markdown",
   "metadata": {},
   "source": [
    "### Resultados para el conjunto de TEST del conjunto de datos AUMENTADOS X10  (XXXXXXX imágenes)"
   ]
  },
  {
   "cell_type": "code",
   "execution_count": null,
   "metadata": {},
   "outputs": [],
   "source": [
    "# augmented10_results = pd.read_csv(\"../datasets/brain/augmented10_df_yolodet_inferencesegsam.csv\")\n",
    "# test_augmented10_result = augmented10_results[augmented10_results[\"split\"]==\"test\"]\n",
    "# esp, rec = compute_tnr_tpr(df = test_augmented10_result)\n",
    "# print(f\"Especifidad: {esp}\")\n",
    "# print(f\"Recall diagnóstico: {rec}\")\n",
    "# print(mean_base_result)"
   ]
  }
 ],
 "metadata": {
  "kernelspec": {
   "display_name": "cancer-seg-comp-6_EvDDLc-py3.10",
   "language": "python",
   "name": "python3"
  },
  "language_info": {
   "codemirror_mode": {
    "name": "ipython",
    "version": 3
   },
   "file_extension": ".py",
   "mimetype": "text/x-python",
   "name": "python",
   "nbconvert_exporter": "python",
   "pygments_lexer": "ipython3",
   "version": "3.10.6"
  },
  "orig_nbformat": 4
 },
 "nbformat": 4,
 "nbformat_minor": 2
}
