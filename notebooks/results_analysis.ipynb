{
 "cells": [
  {
   "cell_type": "markdown",
   "metadata": {},
   "source": [
    "# Análisis de resultados de Cancer-seg"
   ]
  },
  {
   "cell_type": "markdown",
   "metadata": {},
   "source": [
    "Este notebook presenta los resultados de los experimentos realizados. "
   ]
  },
  {
   "cell_type": "markdown",
   "metadata": {},
   "source": [
    "#### Importación de librerías"
   ]
  },
  {
   "cell_type": "code",
   "execution_count": 1,
   "metadata": {},
   "outputs": [],
   "source": [
    "import pandas as pd\n",
    "import ast\n",
    "import warnings\n",
    "warnings.filterwarnings('ignore', 'SettingWithCopyWarning')\n",
    "import os\n",
    "import sys\n",
    "sys.path.append(os.path.dirname(os.getcwd()))\n",
    "from src.tools.tools import compute_mean_metrics, compute_tnr_tpr, calculate_det_metrics_at_thresholds, compute_mean_metrics_yoloseg,compute_tnr_tpr_yoloseg\n"
   ]
  },
  {
   "cell_type": "markdown",
   "metadata": {},
   "source": [
    "## Detección con Yolov8 y segmentación con SAM vs Segmentación con Yolov8-seg"
   ]
  },
  {
   "cell_type": "markdown",
   "metadata": {},
   "source": [
    "### Metrícas de detección de objetos con Yolov8-det"
   ]
  },
  {
   "cell_type": "code",
   "execution_count": 2,
   "metadata": {},
   "outputs": [],
   "source": [
    "base_results = pd.read_csv(\"../datasets/brain/base_df_yolodet_inferencesegsam.csv\")\n",
    "test_base_result = base_results[base_results[\"split\"]==\"test\"]\n",
    "augmented4_results = pd.read_csv(\"../datasets/brain/augmented4_df_yolodet_inferencesegsam.csv\")\n",
    "test_augmented4_result = augmented4_results[augmented4_results[\"split\"]==\"test\"]\n",
    "augmented10_results = pd.read_csv(\"../datasets/brain/augmented10_df_yolodet_inferencesegsam.csv\")\n",
    "test_augmented10_result = augmented10_results[augmented10_results[\"split\"]==\"test\"]"
   ]
  },
  {
   "cell_type": "code",
   "execution_count": 3,
   "metadata": {},
   "outputs": [
    {
     "name": "stdout",
     "output_type": "stream",
     "text": [
      "Metricas de detección para conjuntos de datos base\n",
      "   threshold    IoU    mAP     F1\n",
      "0        0.4  0.819  1.000  0.986\n",
      "1        0.5  0.819  0.993  0.963\n",
      "2        0.7  0.819  0.943  0.874\n",
      "3        0.9  0.819  0.563  0.270\n",
      "\n",
      "Metricas de detección para conjuntos de datos aumentados x4\n",
      "   threshold    IoU    mAP     F1\n",
      "0        0.4  0.838  0.996  0.980\n",
      "1        0.5  0.838  0.993  0.969\n",
      "2        0.7  0.838  0.981  0.901\n",
      "3        0.9  0.838  0.596  0.353\n",
      "\n",
      "Metricas de detección para conjuntos de datos aumentados x10\n",
      "   threshold   IoU    mAP     F1\n",
      "0        0.4  0.86  0.996  0.981\n",
      "1        0.5  0.86  0.995  0.975\n",
      "2        0.7  0.86  0.985  0.925\n",
      "3        0.9  0.86  0.782  0.493\n",
      "\n"
     ]
    }
   ],
   "source": [
    "print(f\"Metricas de detección para conjuntos de datos base\\n{calculate_det_metrics_at_thresholds(test_base_result)}\\n\")\n",
    "print(f\"Metricas de detección para conjuntos de datos aumentados x4\\n{calculate_det_metrics_at_thresholds(test_augmented4_result)}\\n\")\n",
    "print(f\"Metricas de detección para conjuntos de datos aumentados x10\\n{calculate_det_metrics_at_thresholds(test_augmented10_result)}\\n\")"
   ]
  },
  {
   "cell_type": "markdown",
   "metadata": {},
   "source": [
    "### Resultados para el conjunto de TEST del conjunto de datos base (778 imágenes)"
   ]
  },
  {
   "cell_type": "code",
   "execution_count": 4,
   "metadata": {},
   "outputs": [
    {
     "name": "stdout",
     "output_type": "stream",
     "text": [
      "Especifidad: 0.9960238568588469\n",
      "Recall diagnóstico: 0.7745454545454545\n",
      "         iou_mean  dice_mean  f1_mean  prec_mean  rec_mean\n",
      "sam_b       0.764      0.855    0.855      0.824     0.921\n",
      "sam_l       0.757      0.849    0.849      0.810     0.928\n",
      "sam_h       0.752      0.846    0.846      0.806     0.929\n",
      "med_sam     0.524      0.676    0.676      0.786     0.618\n"
     ]
    }
   ],
   "source": [
    "mean_base_result = compute_mean_metrics(test_base_result)\n",
    "esp, rec = compute_tnr_tpr(df = test_base_result)\n",
    "print(f\"Especifidad: {esp}\")\n",
    "print(f\"Recall diagnóstico: {rec}\")\n",
    "print(mean_base_result)"
   ]
  },
  {
   "cell_type": "markdown",
   "metadata": {},
   "source": [
    "### Resultados para el conjunto de TEST del conjunto de datos AUMENTADOS X4  (3877 imágenes)"
   ]
  },
  {
   "cell_type": "code",
   "execution_count": 5,
   "metadata": {},
   "outputs": [
    {
     "name": "stdout",
     "output_type": "stream",
     "text": [
      "Especifidad: 0.9929471032745592\n",
      "Recall diagnóstico: 0.8715644820295984\n",
      "         iou_mean  dice_mean  f1_mean  prec_mean  rec_mean\n",
      "sam_b       0.582      0.679    0.679      0.648     0.748\n",
      "sam_l       0.564      0.659    0.659      0.633     0.728\n",
      "sam_h       0.555      0.649    0.649      0.611     0.728\n",
      "med_sam     0.374      0.498    0.498      0.541     0.483\n"
     ]
    }
   ],
   "source": [
    "mean_base_result = compute_mean_metrics(df = test_augmented4_result)\n",
    "esp, rec = compute_tnr_tpr(df = test_augmented4_result)\n",
    "print(f\"Especifidad: {esp}\")\n",
    "print(f\"Recall diagnóstico: {rec}\")\n",
    "print(mean_base_result)"
   ]
  },
  {
   "cell_type": "markdown",
   "metadata": {},
   "source": [
    "### Resultados para el conjunto de TEST del conjunto de datos AUMENTADOS X10  (8715 imágenes)"
   ]
  },
  {
   "cell_type": "code",
   "execution_count": 6,
   "metadata": {},
   "outputs": [
    {
     "name": "stdout",
     "output_type": "stream",
     "text": [
      "Especifidad: 0.991762410578799\n",
      "Recall diagnóstico: 0.871526084836665\n",
      "         iou_mean  dice_mean  f1_mean  prec_mean  rec_mean\n",
      "sam_b       0.748      0.843    0.843      0.798     0.926\n",
      "sam_l       0.741      0.838    0.838      0.789     0.925\n",
      "sam_h       0.742      0.839    0.839      0.788     0.931\n",
      "med_sam     0.491      0.642    0.642      0.729     0.600\n"
     ]
    }
   ],
   "source": [
    "mean_base_result = compute_mean_metrics(df = test_augmented10_result)\n",
    "esp, rec = compute_tnr_tpr(df = test_augmented10_result)\n",
    "print(f\"Especifidad: {esp}\")\n",
    "print(f\"Recall diagnóstico: {rec}\")\n",
    "print(mean_base_result)"
   ]
  },
  {
   "cell_type": "markdown",
   "metadata": {},
   "source": [
    "### Yolov8-seg"
   ]
  },
  {
   "cell_type": "markdown",
   "metadata": {},
   "source": [
    "Carga de resultados"
   ]
  },
  {
   "cell_type": "code",
   "execution_count": 7,
   "metadata": {},
   "outputs": [],
   "source": [
    "b_results = pd.read_csv(\"../datasets/brain/base_df_yoloseg_inferencesegyolo.csv\")\n",
    "test_b_result = b_results[b_results[\"split\"]==\"test\"]\n",
    "aug4_results = pd.read_csv(\"../datasets/brain/augmented4_df_yoloseg_inferencesegyolo.csv\")\n",
    "test_aug4_result = aug4_results[aug4_results[\"split\"]==\"test\"]\n",
    "aug10_results = pd.read_csv(\"../datasets/brain/augmented10_df_yoloseg_inferencesegyolo.csv\")\n",
    "test_aug10_result = aug10_results[aug10_results[\"split\"]==\"test\"]"
   ]
  },
  {
   "cell_type": "code",
   "execution_count": 8,
   "metadata": {},
   "outputs": [
    {
     "name": "stdout",
     "output_type": "stream",
     "text": [
      "     iou_mean  dice_mean  f1_mean  prec_mean  rec_mean\n",
      "v8s     0.745      0.843    0.843      0.786     0.936\n",
      "v8m     0.741      0.839    0.839      0.789     0.930\n",
      "v8l     0.758      0.853    0.853      0.812     0.924\n"
     ]
    }
   ],
   "source": [
    "mean_base_result = compute_mean_metrics_yoloseg(df = test_b_result)\n",
    "#esp, rec = compute_tnr_tpr(df = test_b_result)\n",
    "print(mean_base_result)"
   ]
  },
  {
   "cell_type": "code",
   "execution_count": 9,
   "metadata": {},
   "outputs": [
    {
     "name": "stdout",
     "output_type": "stream",
     "text": [
      "     iou_mean  dice_mean  f1_mean  prec_mean  rec_mean\n",
      "v8s     0.746      0.843    0.843      0.792     0.929\n",
      "v8m     0.756      0.851    0.851      0.799     0.936\n",
      "v8l     0.756      0.851    0.851      0.800     0.932\n"
     ]
    }
   ],
   "source": [
    "mean_base_result = compute_mean_metrics_yoloseg(df = test_aug4_result)\n",
    "#esp, rec = compute_tnr_tpr(df = test_b_result)\n",
    "print(mean_base_result)\n"
   ]
  },
  {
   "cell_type": "code",
   "execution_count": 10,
   "metadata": {},
   "outputs": [
    {
     "name": "stdout",
     "output_type": "stream",
     "text": [
      "     iou_mean  dice_mean  f1_mean  prec_mean  rec_mean\n",
      "v8s     0.749      0.847    0.847      0.791     0.934\n",
      "v8m     0.751      0.848    0.848      0.795     0.932\n",
      "v8l     0.752      0.849    0.849      0.795     0.933\n"
     ]
    }
   ],
   "source": [
    "mean_base_result = compute_mean_metrics_yoloseg(df = test_aug10_result)\n",
    "#esp, rec = compute_tnr_tpr(df = test_b_result)\n",
    "print(mean_base_result)"
   ]
  },
  {
   "cell_type": "code",
   "execution_count": 12,
   "metadata": {},
   "outputs": [
    {
     "name": "stdout",
     "output_type": "stream",
     "text": [
      "  Model  TNR       TPR\n",
      "0   v8s  1.0  0.887273\n",
      "1   v8m  1.0  0.898182\n",
      "2   v8l  1.0  0.872727\n"
     ]
    }
   ],
   "source": [
    "print(compute_tnr_tpr_yoloseg(df = test_b_result))"
   ]
  },
  {
   "cell_type": "code",
   "execution_count": 13,
   "metadata": {},
   "outputs": [
    {
     "name": "stdout",
     "output_type": "stream",
     "text": [
      "  Model  TNR       TPR\n",
      "0   v8s  1.0  0.946721\n",
      "1   v8m  1.0  0.921107\n",
      "2   v8l  1.0  0.921619\n"
     ]
    }
   ],
   "source": [
    "print(compute_tnr_tpr_yoloseg(df = test_aug4_result))"
   ]
  },
  {
   "cell_type": "code",
   "execution_count": 14,
   "metadata": {},
   "outputs": [
    {
     "name": "stdout",
     "output_type": "stream",
     "text": [
      "  Model  TNR       TPR\n",
      "0   v8s  1.0  0.935154\n",
      "1   v8m  1.0  0.938323\n",
      "2   v8l  1.0  0.941736\n"
     ]
    }
   ],
   "source": [
    "print(compute_tnr_tpr_yoloseg(df = test_aug10_result))"
   ]
  },
  {
   "cell_type": "code",
   "execution_count": null,
   "metadata": {},
   "outputs": [],
   "source": []
  }
 ],
 "metadata": {
  "kernelspec": {
   "display_name": "cancer-seg-comp-6_EvDDLc-py3.10",
   "language": "python",
   "name": "python3"
  },
  "language_info": {
   "codemirror_mode": {
    "name": "ipython",
    "version": 3
   },
   "file_extension": ".py",
   "mimetype": "text/x-python",
   "name": "python",
   "nbconvert_exporter": "python",
   "pygments_lexer": "ipython3",
   "version": "3.10.6"
  },
  "orig_nbformat": 4
 },
 "nbformat": 4,
 "nbformat_minor": 2
}
