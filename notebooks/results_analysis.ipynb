{
 "cells": [
  {
   "cell_type": "markdown",
   "metadata": {},
   "source": [
    "# Análisis de resultados de Cancer-seg"
   ]
  },
  {
   "cell_type": "markdown",
   "metadata": {},
   "source": [
    "Este notebook presenta los resultados de los experimentos realizados. "
   ]
  },
  {
   "cell_type": "markdown",
   "metadata": {},
   "source": [
    "#### Importación de librerías"
   ]
  },
  {
   "cell_type": "code",
   "execution_count": 1,
   "metadata": {},
   "outputs": [],
   "source": [
    "import pandas as pd\n",
    "import ast\n",
    "import warnings\n",
    "warnings.filterwarnings('ignore', 'SettingWithCopyWarning')\n",
    "import os\n",
    "import sys\n",
    "sys.path.append(os.path.dirname(os.getcwd()))\n",
    "from src.tools.tools import compute_mean_metrics, compute_tnr_tpr, calculate_det_metrics_at_thresholds\n"
   ]
  },
  {
   "cell_type": "markdown",
   "metadata": {},
   "source": [
    "Código de ayuda para la visualización"
   ]
  },
  {
   "cell_type": "code",
   "execution_count": 2,
   "metadata": {},
   "outputs": [],
   "source": [
    "\n",
    "\n",
    "\n",
    "# def append_yolov8seg_metrics(metrics_df:pd.DataFrame, segv8_df:pd.DataFrame)->pd.DataFrame:\n",
    "#     pass\n"
   ]
  },
  {
   "cell_type": "markdown",
   "metadata": {},
   "source": [
    "## Detección con Yolov8 y segmentación con SAM vs Segmentación con Yolov8-seg"
   ]
  },
  {
   "cell_type": "markdown",
   "metadata": {},
   "source": [
    "### Metrícas de detección de objetos con Yolov8-det"
   ]
  },
  {
   "cell_type": "code",
   "execution_count": 3,
   "metadata": {},
   "outputs": [],
   "source": [
    "base_results = pd.read_csv(\"../datasets/brain/base_df_yolodet_inferencesegsam.csv\")\n",
    "test_base_result = base_results[base_results[\"split\"]==\"test\"]\n",
    "augmented4_results = pd.read_csv(\"../datasets/brain/augmented4_df_yolodet_inferencesegsam.csv\")\n",
    "test_augmented4_result = augmented4_results[augmented4_results[\"split\"]==\"test\"]\n",
    "# augmented10_results = pd.read_csv(\"../datasets/brain/augmented10_df_yolodet_inferencesegsam.csv\")\n",
    "# test_augmented10_result = augmented10_results[augmented10_results[\"split\"]==\"test\"]"
   ]
  },
  {
   "cell_type": "code",
   "execution_count": 4,
   "metadata": {},
   "outputs": [
    {
     "name": "stdout",
     "output_type": "stream",
     "text": [
      "Metricas de detección para conjuntos de datos base\n",
      "   threshold    IoU    mAP     F1\n",
      "0        0.4  0.819  1.000  0.986\n",
      "1        0.5  0.819  0.993  0.963\n",
      "2        0.7  0.819  0.943  0.874\n",
      "3        0.9  0.819  0.563  0.270\n",
      "\n",
      "Metricas de detección para conjuntos de datos aumentados x4\n",
      "   threshold    IoU    mAP     F1\n",
      "0        0.4  0.838  0.996  0.980\n",
      "1        0.5  0.838  0.993  0.969\n",
      "2        0.7  0.838  0.981  0.901\n",
      "3        0.9  0.838  0.596  0.353\n",
      "\n"
     ]
    }
   ],
   "source": [
    "print(f\"Metricas de detección para conjuntos de datos base\\n{calculate_det_metrics_at_thresholds(test_base_result)}\\n\")\n",
    "print(f\"Metricas de detección para conjuntos de datos aumentados x4\\n{calculate_det_metrics_at_thresholds(test_augmented4_result)}\\n\")\n",
    "#print(f\"Metricas de detección para conjuntos de datos aumentados x104\\n{calculate_det_metrics_at_thresholds(test_augmented10_result)}\\n\")"
   ]
  },
  {
   "cell_type": "markdown",
   "metadata": {},
   "source": [
    "### Resultados para el conjunto de TEST del conjunto de datos base (778 imágenes)"
   ]
  },
  {
   "cell_type": "code",
   "execution_count": 5,
   "metadata": {},
   "outputs": [
    {
     "name": "stdout",
     "output_type": "stream",
     "text": [
      "Especifidad: 0.9960238568588469\n",
      "Recall diagnóstico: 0.7745454545454545\n",
      "         iou_mean  dice_mean  f1_mean  prec_mean  rec_mean\n",
      "sam_b       0.764      0.855    0.855      0.824     0.921\n",
      "sam_l       0.757      0.849    0.849      0.810     0.928\n",
      "sam_h       0.752      0.846    0.846      0.806     0.929\n",
      "med_sam     0.524      0.676    0.676      0.786     0.618\n"
     ]
    }
   ],
   "source": [
    "mean_base_result = compute_mean_metrics(test_base_result)\n",
    "esp, rec = compute_tnr_tpr(df = test_base_result)\n",
    "print(f\"Especifidad: {esp}\")\n",
    "print(f\"Recall diagnóstico: {rec}\")\n",
    "print(mean_base_result)"
   ]
  },
  {
   "cell_type": "markdown",
   "metadata": {},
   "source": [
    "### Resultados para el conjunto de TEST del conjunto de datos AUMENTADOS X4  (3877 imágenes)"
   ]
  },
  {
   "cell_type": "code",
   "execution_count": 6,
   "metadata": {},
   "outputs": [
    {
     "name": "stdout",
     "output_type": "stream",
     "text": [
      "Especifidad: 0.9929471032745592\n",
      "Recall diagnóstico: 0.8715644820295984\n",
      "         iou_mean  dice_mean  f1_mean  prec_mean  rec_mean\n",
      "sam_b       0.582      0.679    0.679      0.648     0.748\n",
      "sam_l       0.564      0.659    0.659      0.633     0.728\n",
      "sam_h       0.555      0.649    0.649      0.611     0.728\n",
      "med_sam     0.374      0.498    0.498      0.541     0.483\n"
     ]
    }
   ],
   "source": [
    "mean_base_result = compute_mean_metrics(df = test_augmented4_result)\n",
    "esp, rec = compute_tnr_tpr(df = test_augmented4_result)\n",
    "print(f\"Especifidad: {esp}\")\n",
    "print(f\"Recall diagnóstico: {rec}\")\n",
    "print(mean_base_result)"
   ]
  },
  {
   "cell_type": "markdown",
   "metadata": {},
   "source": [
    "### Resultados para el conjunto de TEST del conjunto de datos AUMENTADOS X10  (XXXXXXX imágenes)"
   ]
  },
  {
   "cell_type": "code",
   "execution_count": 7,
   "metadata": {},
   "outputs": [
    {
     "name": "stdout",
     "output_type": "stream",
     "text": [
      "Especifidad: 0.9929471032745592\n",
      "Recall diagnóstico: 0.8715644820295984\n",
      "         iou_mean  dice_mean  f1_mean  prec_mean  rec_mean\n",
      "sam_b       0.582      0.679    0.679      0.648     0.748\n",
      "sam_l       0.564      0.659    0.659      0.633     0.728\n",
      "sam_h       0.555      0.649    0.649      0.611     0.728\n",
      "med_sam     0.374      0.498    0.498      0.541     0.483\n"
     ]
    }
   ],
   "source": [
    "# mean_base_result = compute_mean_metrics(df = test_augmented10_result)\n",
    "# esp, rec = compute_tnr_tpr(df = test_augmented10_result)\n",
    "print(f\"Especifidad: {esp}\")\n",
    "print(f\"Recall diagnóstico: {rec}\")\n",
    "print(mean_base_result)"
   ]
  },
  {
   "cell_type": "code",
   "execution_count": null,
   "metadata": {},
   "outputs": [],
   "source": []
  }
 ],
 "metadata": {
  "kernelspec": {
   "display_name": "cancer-seg-comp-6_EvDDLc-py3.10",
   "language": "python",
   "name": "python3"
  },
  "language_info": {
   "codemirror_mode": {
    "name": "ipython",
    "version": 3
   },
   "file_extension": ".py",
   "mimetype": "text/x-python",
   "name": "python",
   "nbconvert_exporter": "python",
   "pygments_lexer": "ipython3",
   "version": "3.10.6"
  },
  "orig_nbformat": 4
 },
 "nbformat": 4,
 "nbformat_minor": 2
}
